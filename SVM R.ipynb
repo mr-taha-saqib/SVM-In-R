{
  "nbformat": 4,
  "nbformat_minor": 0,
  "metadata": {
    "colab": {
      "provenance": []
    },
    "kernelspec": {
      "name": "ir",
      "display_name": "R"
    },
    "language_info": {
      "name": "R"
    }
  },
  "cells": [
    {
      "cell_type": "code",
      "source": [
        "#Q1\n",
        "power <- function(b, e) {\n",
        "  c <- b ^ e\n",
        "  return(c)\n",
        "}\n",
        "power(2, 5)"
      ],
      "metadata": {
        "colab": {
          "base_uri": "https://localhost:8080/",
          "height": 34
        },
        "id": "xL47zx5OISed",
        "outputId": "450ae583-e38a-453f-eac4-8348e17992f7"
      },
      "execution_count": null,
      "outputs": [
        {
          "output_type": "display_data",
          "data": {
            "text/html": [
              "32"
            ],
            "text/markdown": "32",
            "text/latex": "32",
            "text/plain": [
              "[1] 32"
            ]
          },
          "metadata": {}
        }
      ]
    },
    {
      "cell_type": "code",
      "source": [
        "#Q2\n",
        "subtotal <- function(arr) {\n",
        "  total <- 0\n",
        "  for (i in 1:length(arr)) {\n",
        "    total <- total + arr[i]\n",
        "    arr[i] <- total\n",
        "  }\n",
        "  print(arr)\n",
        "  avg <- sum(arr) / length(arr)\n",
        "  return(avg)\n",
        "}\n",
        "arr <- c(5.8, 2.6, 9.1, 3.4, 7.0)\n",
        "avg_res <- subtotal(arr)\n",
        "print(paste(\"Average :\", avg_res))"
      ],
      "metadata": {
        "colab": {
          "base_uri": "https://localhost:8080/"
        },
        "id": "eIeYWakMISbF",
        "outputId": "29223103-f2cd-4bf5-b576-42f97e8f1fd3"
      },
      "execution_count": null,
      "outputs": [
        {
          "output_type": "stream",
          "name": "stdout",
          "text": [
            "[1]  5.8  8.4 17.5 20.9 27.9\n",
            "[1] \"Average : 16.1\"\n"
          ]
        }
      ]
    },
    {
      "cell_type": "code",
      "source": [
        "#Q3\n",
        "Counter <- function(char_array) {\n",
        "  total_letters <- sum(char_array != ' ')\n",
        "  total_spaces <- sum(char_array == ' ')\n",
        "  total_lowercase <- sum(char_array %in% letters)\n",
        "  total_uppercase <- sum(char_array %in% LETTERS)\n",
        "\n",
        "  return(list(\n",
        "    \"No. of letters\" = total_letters,\n",
        "    \"No. of spaces\" = total_spaces,\n",
        "    \"No. of uppercase letters\" = total_uppercase,\n",
        "    \"No. of lowercase letters\" = total_lowercase\n",
        "  ))\n",
        "}\n",
        "input_str <- \"Hello, I am a student of FAST University.\"\n",
        "result <- Counter(strsplit(input_str, '')[[1]])\n",
        "for (key in names(result)) {\n",
        "  cat(sprintf(\"%s are: %s\\n\", key, result[[key]]))\n",
        "}"
      ],
      "metadata": {
        "colab": {
          "base_uri": "https://localhost:8080/"
        },
        "id": "uspJQwEAISYm",
        "outputId": "90c2fe94-d4c4-4401-d63f-ef2aaac02976"
      },
      "execution_count": null,
      "outputs": [
        {
          "output_type": "stream",
          "name": "stdout",
          "text": [
            "No. of letters are: 34\n",
            "No. of spaces are: 7\n",
            "No. of uppercase letters are: 7\n",
            "No. of lowercase letters are: 25\n"
          ]
        }
      ]
    },
    {
      "cell_type": "code",
      "execution_count": null,
      "metadata": {
        "colab": {
          "base_uri": "https://localhost:8080/"
        },
        "id": "mHSD2guLHWEH",
        "outputId": "c3cae63d-d773-4716-a996-d9a67a9a540b"
      },
      "outputs": [
        {
          "output_type": "stream",
          "name": "stdout",
          "text": [
            "[1] 2.5\n"
          ]
        }
      ],
      "source": [
        "#Q4\n",
        "findMedianSort <- function(num, num1) {\n",
        "  merged <- sort(c(num, num1))\n",
        "  n <- length(merged)\n",
        "\n",
        "  if (n %% 2 == 0) {\n",
        "    median <- (merged[n / 2] + merged[n / 2 + 1]) / 2\n",
        "  } else {\n",
        "    median <- merged[(n + 1) / 2]\n",
        "  }\n",
        "  return(median)\n",
        "}\n",
        "\n",
        "num <- c(1, 2)\n",
        "num1 <- c(3, 4)\n",
        "result <- findMedianSort(num, num1)\n",
        "print(result)"
      ]
    }
  ]
}